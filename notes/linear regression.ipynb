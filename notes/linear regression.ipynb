{
 "cells": [
  {
   "cell_type": "markdown",
   "metadata": {},
   "source": [
    "## Linear Regression\n",
    "Linear regression is a supervised learning algorithm that is used to predict continuous values such as house prices. The algorithm is given some training data from which it creates a model (hypothesis) that it will use to predict house prices. \n",
    "\n",
    "### Single Variable\n",
    "In  univariate linear regression we have one feature variable `x` like the size of the house in square meters. The algorithm will create a hypothesis `h`. This hypothesis will be used to map inputs (size of house) to outputs (price) -- predicting the price of the house. Below is the equation of the hypothesis for univariate linear regression:\n",
    "![](img/hypothesis-single.PNG)\n",
    "\n",
    "The hypothesis is an equation that will give us a line that best fits our data so we can make sensible predictions.\n",
    "\n",
    "#### Cost Function \n",
    "So how do we select `theta_0` and `theta_1` in the equation above? We choose `theta_0` and `theta_1` so that our hypothesis `h(x)` is as close as possible to `y` for all examples `(x, y)` in our dataset. This means the error between the predicted value and the actual value needs to be as small as possible. Below is the formular for calculating this error:\n",
    "![](img/squared-error.PNG)\n",
    "Our goal is to minimise our cost function `J` and in doing so our hypothesis will give us a line that best fits our data.\n",
    "\n",
    "#### Gradient Descent\n",
    "This is an algorithm that is used to minimise the cost function. It does so by iteratively updating our `theta`'s in proportion to the negative gradient of the function at the current point as indicated below, for `j = 0 and j=1`:\n",
    "![](img/gradient-descent-general.PNG)\n",
    "`alpha` is the learning rate that determines the size of the step we take. If `alpha` is too small we will take too long to reach the local minimum and if it's too large we might overshoot the local minimum.\n",
    "\n",
    "In our univariate linear regression problem the partial derivatives for `J` with respect to `theta_0` and `theta_1` are as follows:\n",
    "![](img/partial-derivatives.PNG)\n",
    "So we will update `theta_0` and `theta_1` as follows:\n",
    "![](img/gradient-descent-linear-reg.PNG)\n",
    "\n",
    "### Multiple Variables\n",
    "We have seen how to solve a univariate linear regression problem but how do we go about it when we have multiple features with `n` being the total number of features? Now our hypothesis will look like this:\n",
    "![](img/hypothesis-multivariate.PNG)\n",
    "For convinience let `x_0 = 1` and then we put our features `x_0 to x_n` in a vector and same applies to our parameters `theta_0 to theta_n`:\n",
    "![](img/vectors.PNG)\n",
    "Now our hypothesis can be simplified as follows:\n",
    "![](img/hypothesis-multrix.PNG)\n",
    "We then iteratively update our parameters using the following, until we converge to a local minimum:\n",
    "![](img/gradient-descent-multivariate.PNG)\n",
    "\n",
    "## Example\n",
    "Let's see how all this work."
   ]
  },
  {
   "cell_type": "code",
   "execution_count": 124,
   "metadata": {},
   "outputs": [],
   "source": [
    "# import libraries\n",
    "import numpy as np\n",
    "import pandas as pd\n",
    "from matplotlib import pyplot as plt\n",
    "\n",
    "%matplotlib inline"
   ]
  },
  {
   "cell_type": "code",
   "execution_count": 125,
   "metadata": {},
   "outputs": [
    {
     "data": {
      "text/html": [
       "<div>\n",
       "<style scoped>\n",
       "    .dataframe tbody tr th:only-of-type {\n",
       "        vertical-align: middle;\n",
       "    }\n",
       "\n",
       "    .dataframe tbody tr th {\n",
       "        vertical-align: top;\n",
       "    }\n",
       "\n",
       "    .dataframe thead th {\n",
       "        text-align: right;\n",
       "    }\n",
       "</style>\n",
       "<table border=\"1\" class=\"dataframe\">\n",
       "  <thead>\n",
       "    <tr style=\"text-align: right;\">\n",
       "      <th></th>\n",
       "      <th>size</th>\n",
       "      <th>bedroom</th>\n",
       "      <th>price</th>\n",
       "    </tr>\n",
       "  </thead>\n",
       "  <tbody>\n",
       "    <tr>\n",
       "      <th>0</th>\n",
       "      <td>2104</td>\n",
       "      <td>3</td>\n",
       "      <td>399900</td>\n",
       "    </tr>\n",
       "    <tr>\n",
       "      <th>1</th>\n",
       "      <td>1600</td>\n",
       "      <td>3</td>\n",
       "      <td>329900</td>\n",
       "    </tr>\n",
       "    <tr>\n",
       "      <th>2</th>\n",
       "      <td>2400</td>\n",
       "      <td>3</td>\n",
       "      <td>369000</td>\n",
       "    </tr>\n",
       "    <tr>\n",
       "      <th>3</th>\n",
       "      <td>1416</td>\n",
       "      <td>2</td>\n",
       "      <td>232000</td>\n",
       "    </tr>\n",
       "    <tr>\n",
       "      <th>4</th>\n",
       "      <td>3000</td>\n",
       "      <td>4</td>\n",
       "      <td>539900</td>\n",
       "    </tr>\n",
       "  </tbody>\n",
       "</table>\n",
       "</div>"
      ],
      "text/plain": [
       "   size  bedroom   price\n",
       "0  2104        3  399900\n",
       "1  1600        3  329900\n",
       "2  2400        3  369000\n",
       "3  1416        2  232000\n",
       "4  3000        4  539900"
      ]
     },
     "execution_count": 125,
     "metadata": {},
     "output_type": "execute_result"
    }
   ],
   "source": [
    "# load data\n",
    "df = pd.read_csv('home.txt', names=['size', 'bedroom', 'price'])\n",
    "df.head()"
   ]
  },
  {
   "cell_type": "markdown",
   "metadata": {},
   "source": [
    "The data we have loaded show the size of a house, number of bedrooms and its price."
   ]
  },
  {
   "cell_type": "code",
   "execution_count": 126,
   "metadata": {},
   "outputs": [
    {
     "data": {
      "text/html": [
       "<div>\n",
       "<style scoped>\n",
       "    .dataframe tbody tr th:only-of-type {\n",
       "        vertical-align: middle;\n",
       "    }\n",
       "\n",
       "    .dataframe tbody tr th {\n",
       "        vertical-align: top;\n",
       "    }\n",
       "\n",
       "    .dataframe thead th {\n",
       "        text-align: right;\n",
       "    }\n",
       "</style>\n",
       "<table border=\"1\" class=\"dataframe\">\n",
       "  <thead>\n",
       "    <tr style=\"text-align: right;\">\n",
       "      <th></th>\n",
       "      <th>size</th>\n",
       "      <th>bedroom</th>\n",
       "      <th>price</th>\n",
       "    </tr>\n",
       "  </thead>\n",
       "  <tbody>\n",
       "    <tr>\n",
       "      <th>0</th>\n",
       "      <td>0.130010</td>\n",
       "      <td>-0.223675</td>\n",
       "      <td>0.475747</td>\n",
       "    </tr>\n",
       "    <tr>\n",
       "      <th>1</th>\n",
       "      <td>-0.504190</td>\n",
       "      <td>-0.223675</td>\n",
       "      <td>-0.084074</td>\n",
       "    </tr>\n",
       "    <tr>\n",
       "      <th>2</th>\n",
       "      <td>0.502476</td>\n",
       "      <td>-0.223675</td>\n",
       "      <td>0.228626</td>\n",
       "    </tr>\n",
       "    <tr>\n",
       "      <th>3</th>\n",
       "      <td>-0.735723</td>\n",
       "      <td>-1.537767</td>\n",
       "      <td>-0.867025</td>\n",
       "    </tr>\n",
       "    <tr>\n",
       "      <th>4</th>\n",
       "      <td>1.257476</td>\n",
       "      <td>1.090417</td>\n",
       "      <td>1.595389</td>\n",
       "    </tr>\n",
       "  </tbody>\n",
       "</table>\n",
       "</div>"
      ],
      "text/plain": [
       "       size   bedroom     price\n",
       "0  0.130010 -0.223675  0.475747\n",
       "1 -0.504190 -0.223675 -0.084074\n",
       "2  0.502476 -0.223675  0.228626\n",
       "3 -0.735723 -1.537767 -0.867025\n",
       "4  1.257476  1.090417  1.595389"
      ]
     },
     "execution_count": 126,
     "metadata": {},
     "output_type": "execute_result"
    }
   ],
   "source": [
    "# normalize our features\n",
    "df = (df - df.mean()) / df.std()\n",
    "df.head()"
   ]
  },
  {
   "cell_type": "code",
   "execution_count": 127,
   "metadata": {},
   "outputs": [],
   "source": [
    "# Let's now create matrices and set hyperparameters\n",
    "y = df['price'].values\n",
    "X = df.drop(['price'], axis=1)\n",
    "\n",
    "ones = np.ones([X.shape[0], 1]) # vector of ones\n",
    "X = np.concatenate((ones, X), axis=1 )\n",
    "num_examples, num_features = np.shape(X)\n",
    "theta = np.zeros(num_features)\n",
    "num_iterations = 1000"
   ]
  },
  {
   "cell_type": "code",
   "execution_count": 128,
   "metadata": {},
   "outputs": [],
   "source": [
    "# Cost function\n",
    "def compute_cost(X, y, theta)\n",
    "    diffs = np.dot(X, theta.T) - y\n",
    "    cost = np.sum(diffs ** 2) / (2 * num_examples)\n",
    "    return cost"
   ]
  },
  {
   "cell_type": "code",
   "execution_count": 120,
   "metadata": {},
   "outputs": [],
   "source": [
    "def gradient_descent(X, y, theta, num_iterations, alpha=0.01):\n",
    "    cost = np.zeros(num_iterations)\n",
    "    for i in range(num_iterations):\n",
    "        # difference between hypothesis and actual values\n",
    "        diffs = np.dot(X, theta.T) - y\n",
    "        # gradient for every example\n",
    "        gradient = np.dot(X.T, diffs) / num_examples\n",
    "        # update parameters\n",
    "        theta = theta - alpha * gradient\n",
    "        cost[i] = compute_cost(X, y, theta)\n",
    "    return theta, cost\n",
    "        \n",
    "    "
   ]
  },
  {
   "cell_type": "code",
   "execution_count": 121,
   "metadata": {},
   "outputs": [],
   "source": [
    "theta, cost = gradient_descent(X, y, theta, num_iterations)"
   ]
  },
  {
   "cell_type": "code",
   "execution_count": 123,
   "metadata": {},
   "outputs": [
    {
     "data": {
      "text/plain": [
       "Text(0,0.5,'Cost')"
      ]
     },
     "execution_count": 123,
     "metadata": {},
     "output_type": "execute_result"
    },
    {
     "data": {
      "image/png": "[encoded data removed]",
      "text/plain": [
       "<Figure size 432x288 with 1 Axes>"
      ]
     },
     "metadata": {},
     "output_type": "display_data"
    }
   ],
   "source": [
    "fig, ax = plt.subplots()\n",
    "ax.plot(np.arange(num_iterations), cost, 'b')\n",
    "ax.set_xlabel('Iterations')\n",
    "ax.set_ylabel('Cost')"
   ]
  },
  {
   "cell_type": "markdown",
   "metadata": {},
   "source": [
    "As you can see our cost is decreasing with time. \n",
    "\n",
    "Let's see how a different learning rate will affect how fast our cost function changes over time"
   ]
  },
  {
   "cell_type": "code",
   "execution_count": 130,
   "metadata": {},
   "outputs": [
    {
     "data": {
      "text/plain": [
       "Text(0,0.5,'Cost')"
      ]
     },
     "execution_count": 130,
     "metadata": {},
     "output_type": "execute_result"
    },
    {
     "data": {
      "image/png": "[encoded data removed]",
      "text/plain": [
       "<Figure size 432x288 with 1 Axes>"
      ]
     },
     "metadata": {},
     "output_type": "display_data"
    }
   ],
   "source": [
    "# smaller alpha\n",
    "theta, cost = gradient_descent(X, y, theta, num_iterations,0.001)\n",
    "fig, ax = plt.subplots()\n",
    "ax.plot(np.arange(num_iterations), cost, 'b')\n",
    "ax.set_xlabel('Iterations')\n",
    "ax.set_ylabel('Cost')"
   ]
  },
  {
   "cell_type": "markdown",
   "metadata": {},
   "source": [
    "As you can see our cost functions takes longer to converge"
   ]
  },
  {
   "cell_type": "code",
   "execution_count": 131,
   "metadata": {},
   "outputs": [
    {
     "data": {
      "text/plain": [
       "Text(0,0.5,'Cost')"
      ]
     },
     "execution_count": 131,
     "metadata": {},
     "output_type": "execute_result"
    },
    {
     "data": {
      "image/png": "[encoded data removed]",
      "text/plain": [
       "<Figure size 432x288 with 1 Axes>"
      ]
     },
     "metadata": {},
     "output_type": "display_data"
    }
   ],
   "source": [
    "# larger alpha\n",
    "theta, cost = gradient_descent(X, y, theta, num_iterations,0.1)\n",
    "fig, ax = plt.subplots()\n",
    "ax.plot(np.arange(num_iterations), cost, 'b')\n",
    "ax.set_xlabel('Iterations')\n",
    "ax.set_ylabel('Cost')"
   ]
  },
  {
   "cell_type": "markdown",
   "metadata": {},
   "source": [
    "With a larger cost function we converge faster."
   ]
  },
  {
   "cell_type": "code",
   "execution_count": null,
   "metadata": {},
   "outputs": [],
   "source": []
  }
 ],
 "metadata": {
  "kernelspec": {
   "display_name": "Python 2",
   "language": "python",
   "name": "python2"
  },
  "language_info": {
   "codemirror_mode": {
    "name": "ipython",
    "version": 2
   },
   "file_extension": ".py",
   "mimetype": "text/x-python",
   "name": "python",
   "nbconvert_exporter": "python",
   "pygments_lexer": "ipython2",
   "version": "2.7.15+"
  }
 },
 "nbformat": 4,
 "nbformat_minor": 2
}
