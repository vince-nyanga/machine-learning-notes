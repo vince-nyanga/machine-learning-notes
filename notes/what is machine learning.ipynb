{
 "cells": [
  {
   "cell_type": "markdown",
   "metadata": {},
   "source": [
    "## Machine Learning\n",
    "Machine learning is a practice of teaching computers how to learn patterns from data without being explicitly programmed to learn them. These learned patterns are often used for decision making and predictions. A machine is presented with a dataset and from that dataset learn patterns that it can use to make decisions about data it has never 'seen' before.\n",
    "\n",
    "Just like we humans learn from experience, computers can learn from the data they are given to make decisions or predictions in the future when presented with new data.\n",
    "\n",
    "There are many types of machine learning algorithms which include supervised learning, unsupervised learning, reinforcement learning and recommender systems. Supervised and Unsupervised learning algorithms are the most common.\n",
    "\n",
    "### Supervised Learning\n",
    "In supervised learning a computer is given labeled data (data with 'correct answers') and then use this data to find or predict 'answers' in data that is not labeled. An example of this is teaching a computer to classify an email as spam or not spam. To do this the computer is given lots of emails labeled `spam` or `not spam` and use the data to learn how to classify new email as spam or not spam.\n",
    "\n",
    "There are two types of supervised learning:\n",
    "\n",
    "- **Classification:** Predicting descrete values for instance, spam or not spam\n",
    "- **Regression:** Predicting continuous values like, for instance, house prices.\n",
    "\n",
    "### Unsupervised Learning\n",
    "In unsupervised learning a computer is given data that is not labeled and it is supposed to find structure in the data. Clustering is one example of unsupervised learning. It is used in market segmentation, social network analysis to mention but a few."
   ]
  },
  {
   "cell_type": "code",
   "execution_count": null,
   "metadata": {},
   "outputs": [],
   "source": []
  }
 ],
 "metadata": {
  "kernelspec": {
   "display_name": "Python 2",
   "language": "python",
   "name": "python2"
  },
  "language_info": {
   "codemirror_mode": {
    "name": "ipython",
    "version": 2
   },
   "file_extension": ".py",
   "mimetype": "text/x-python",
   "name": "python",
   "nbconvert_exporter": "python",
   "pygments_lexer": "ipython2",
   "version": "2.7.15+"
  }
 },
 "nbformat": 4,
 "nbformat_minor": 2
}
